{
 "cells": [
  {
   "cell_type": "code",
   "execution_count": null,
   "id": "f0e6a8e1",
   "metadata": {
    "scrolled": true
   },
   "outputs": [],
   "source": [
    "from pyfirmata import Arduino, SERVO, util\n",
    "from time import sleep\n",
    "\n",
    "port = 'COM4'\n",
    "clawpin = 5\n",
    "lifter = 4\n",
    "xRot = 3\n",
    "board = Arduino(port)\n",
    "\n",
    "\n",
    "\n",
    "board.digital[clawpin].mode=SERVO\n",
    "#board.digital[lifter].mode=SERVO\n",
    "board.digital[xRot].mode=SERVO\n",
    "\n",
    "#def rotateServo(pin, angle):\n",
    "   # board.digital[pin].write(i)\n",
    "#sleep(0.015)\n",
    "    \n",
    "def grabFunc():\n",
    "    for i in range(180,1,-1):\n",
    "        board.digital[clawpin].write(i) #open\n",
    "        sleep(0.115)\n",
    "    for i in range(0,180):\n",
    "        board.digital[clawpin].write(i) #close\n",
    "        sleep(0.115)\n",
    "        \n",
    "while True:\n",
    "    grabFunc()\n"
   ]
  },
  {
   "cell_type": "code",
   "execution_count": 1,
   "id": "d67f6b4d",
   "metadata": {
    "scrolled": true
   },
   "outputs": [
    {
     "name": "stdout",
     "output_type": "stream",
     "text": [
      "centroid is at ... 356 409\n",
      "centroid is at ... 274 266\n",
      "centroid is at ... 307 167\n",
      "centroid is at ... 339 13\n",
      "centroid is at ... 380 403\n",
      "centroid is at ... 378 321\n",
      "centroid is at ... 376 297\n",
      "centroid is at ... 448 129\n",
      "centroid is at ... 499 24\n",
      "centroid is at ... 376 51\n",
      "centroid is at ... 39 360\n",
      "centroid is at ... 360 289\n",
      "centroid is at ... 474 26\n",
      "centroid is at ... 376 79\n"
     ]
    }
   ],
   "source": [
    "import cv2\n",
    "import numpy as np\n",
    "import imutils\n",
    "import keyboard\n",
    "import mouse\n",
    "\n",
    "cap = cv2.VideoCapture(0)\n",
    "\n",
    "cap.set(3, 640)\n",
    "cap.set(4, 480)\n",
    "\n",
    "for i in range(5):\n",
    "    _, frame = cap.read()\n",
    "    \n",
    "    hsv = cv2.cvtColor(frame, cv2.COLOR_BGR2HSV)\n",
    "    lb = np.array([90, 60, 0])\n",
    "    ub = np.array([121, 255, 255])\n",
    "    \n",
    "    mask = cv2.inRange(hsv, lb, ub)  \n",
    "    conts = cv2.findContours(mask, cv2.RETR_TREE, cv2.CHAIN_APPROX_SIMPLE)\n",
    "    conts = imutils.grab_contours(conts)\n",
    "    for c in conts:\n",
    "        area = cv2.contourArea(c)\n",
    "        if area > 750:\n",
    "            cv2.drawContours(frame, [c], -1, (0,255,0),3)\n",
    "            M = cv2.moments(c)\n",
    "            circx = int(M[\"m10\"]/ M[\"m00\"])\n",
    "            circy = int(M[\"m01\"]/ M[\"m00\"])\n",
    "            cv2.circle(frame,(circx,circy), 7,(255,255,255),-1)\n",
    "            cv2.putText(frame,\"Centre\", (circx-20,circy-20),cv2.FONT_HERSHEY_SIMPLEX, 0.5, (0,255,0), 1)\n",
    "            cv2.imshow(\"frame\", frame)\n",
    "        \n",
    "            print(\"centroid is at ...\",circx,circy)\n",
    "    \n",
    "    esc = cv2.waitKey(1000)\n",
    "    if esc==27:\n",
    "        break\n",
    "\n",
    "keyboard.press(\"alt+tab\")\n",
    "keyboard.release(\"alt +tab\")\n",
    "mouse.move(85, 40, absolute=True, duration=0.1)\n",
    "mouse.click('left')\n",
    "keyboard.write(str(circy))\n",
    "keyboard.send(\"enter\")\n",
    "\n",
    "              \n",
    "cap.release()\n",
    "cv2.destroyAllWindows()"
   ]
  },
  {
   "cell_type": "code",
   "execution_count": 18,
   "id": "52eeeb3f",
   "metadata": {
    "scrolled": true
   },
   "outputs": [],
   "source": [
    "import cv2\n",
    "import numpy as np\n",
    "\n",
    "cap = cv2.VideoCapture(1)\n",
    "\n",
    "while True:\n",
    "    _, frame = cap.read()\n",
    "    \n",
    "    cv2.circle(frame, (52,45), 5, (0,0,255),-1) #topleft red \n",
    "    cv2.circle(frame, (50,450), 5, (0,255,0),-1) #bottomleft green\n",
    "    cv2.circle(frame, (200,450), 5, (255,0,255),-1) #bottomright purple\n",
    "    cv2.circle(frame, (200,100), 5, (255,0,0),-1) #top right blue\n",
    "    \n",
    "    pts1 = np.float32([[50,100], [200,100], [50,450], [200,450]])\n",
    "    pts2 = np.float32([[0,0], [400,0],[0,600],[600,400]])\n",
    "    matrix = cv2.getPerspectiveTransform(pts1,pts2)\n",
    "    result = cv2.warpPerspective(frame, matrix, (600,400))\n",
    "    \n",
    "    cv2.imshow(\"frame\", frame)\n",
    "    cv2.imshow(\"Perspective Transformation\", result)\n",
    "    key = cv2.waitKey(1)\n",
    "    if key == 27:\n",
    "        break\n",
    "    \n",
    "    \n",
    "cap.release()\n",
    "cv2.destroyAllWindows()"
   ]
  },
  {
   "cell_type": "code",
   "execution_count": null,
   "id": "35cf2610",
   "metadata": {},
   "outputs": [],
   "source": []
  },
  {
   "cell_type": "code",
   "execution_count": null,
   "id": "cf52eaf6",
   "metadata": {
    "scrolled": true
   },
   "outputs": [],
   "source": []
  },
  {
   "cell_type": "code",
   "execution_count": null,
   "id": "f8461509",
   "metadata": {},
   "outputs": [],
   "source": []
  },
  {
   "cell_type": "code",
   "execution_count": null,
   "id": "439700c4",
   "metadata": {},
   "outputs": [],
   "source": []
  }
 ],
 "metadata": {
  "kernelspec": {
   "display_name": "Python 3 (ipykernel)",
   "language": "python",
   "name": "python3"
  },
  "language_info": {
   "codemirror_mode": {
    "name": "ipython",
    "version": 3
   },
   "file_extension": ".py",
   "mimetype": "text/x-python",
   "name": "python",
   "nbconvert_exporter": "python",
   "pygments_lexer": "ipython3",
   "version": "3.10.5"
  }
 },
 "nbformat": 4,
 "nbformat_minor": 5
}
