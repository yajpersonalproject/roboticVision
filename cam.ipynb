{
 "cells": [
  {
   "cell_type": "code",
   "execution_count": null,
   "id": "f0e6a8e1",
   "metadata": {
    "scrolled": true
   },
   "outputs": [],
   "source": [
    "import cv2\n",
    "import numpy as np\n",
    "import imutils\n",
    "import keyboard\n",
    "import mouse\n",
    "\n",
    "cap = cv2.VideoCapture(1)\n",
    "\n",
    "cap.set(3, 640)\n",
    "cap.set(4, 480)\n",
    "\n",
    "for i in range(5):\n",
    "    _, frame = cap.read()\n",
    "    \n",
    "    hsv = cv2.cvtColor(frame, cv2.COLOR_BGR2HSV)\n",
    "    lb = np.array([90, 60, 0])\n",
    "    ub = np.array([121, 255, 255])\n",
    "    \n",
    "    mask = cv2.inRange(hsv, lb, ub)  \n",
    "    conts = cv2.findContours(mask, cv2.RETR_TREE, cv2.CHAIN_APPROX_SIMPLE)\n",
    "    conts = imutils.grab_contours(conts)\n",
    "    for c in conts:\n",
    "        area = cv2.contourArea(c)\n",
    "        if area > 750:\n",
    "            cv2.drawContours(frame, [c], -1, (0,255,0),3)\n",
    "            M = cv2.moments(c)\n",
    "            circx = int(M[\"m10\"]/ M[\"m00\"])\n",
    "            circy = int(M[\"m01\"]/ M[\"m00\"])\n",
    "            cv2.circle(frame,(circx,circy), 7,(255,255,255),-1)\n",
    "            cv2.putText(frame,\"Centre\", (circx-20,circy-20),cv2.FONT_HERSHEY_SIMPLEX, 0.5, (0,255,0), 1)\n",
    "            cv2.imshow(\"frame\", frame)\n",
    "        \n",
    "            print(\"centroid is at ...\",circx,circy)\n",
    "    \n",
    "    esc = cv2.waitKey(1000)\n",
    "    if esc==27:\n",
    "        break\n",
    "\n",
    "keyboard.press(\"alt+tab\")\n",
    "keyboard.release(\"alt +tab\")\n",
    "mouse.move(85, 40, absolute=True, duration=0.1)\n",
    "mouse.click('left')\n",
    "keyboard.write(str(circy))\n",
    "keyboard.send(\"enter\")\n",
    "\n",
    "              \n",
    "cap.release()\n",
    "cv2.destroyAllWindows()"
   ]
  }
 ],
 "metadata": {
  "kernelspec": {
   "display_name": "Python 3 (ipykernel)",
   "language": "python",
   "name": "python3"
  },
  "language_info": {
   "codemirror_mode": {
    "name": "ipython",
    "version": 3
   },
   "file_extension": ".py",
   "mimetype": "text/x-python",
   "name": "python",
   "nbconvert_exporter": "python",
   "pygments_lexer": "ipython3",
   "version": "3.10.5"
  }
 },
 "nbformat": 4,
 "nbformat_minor": 5
}
